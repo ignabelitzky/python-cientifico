{
 "cells": [
  {
   "cell_type": "markdown",
   "id": "72718a95",
   "metadata": {},
   "source": [
    "## Inicializacion"
   ]
  },
  {
   "cell_type": "code",
   "execution_count": 1,
   "id": "e89498a6",
   "metadata": {},
   "outputs": [],
   "source": [
    "import numpy as np\n",
    "import matplotlib.pyplot as plt"
   ]
  },
  {
   "cell_type": "markdown",
   "id": "e8368288",
   "metadata": {},
   "source": [
    "### Ajuste de funciones polinomiales usando np.polyfit\n",
    "Si simplemente necesitamos hacer ajustes basicos de polinomios, lo podemos hacer facilmente solo con numpy:\n",
    "\n",
    "#### Ajuste polinomial de minimos cuadrados.\n",
    "Ajuste un polinomio p(x) = p[0] * x^deg + ... + p[deg] de grados [deg] a los puntos (x, y). Devuelve un vector de coeficientes p que minimiza el error al cuadrado en el orden deg, deg-1, ..., 0.\n",
    "\n",
    "* Crearemos unos datos para trabajar con ellos."
   ]
  },
  {
   "cell_type": "code",
   "execution_count": null,
   "id": "f5d32b04",
   "metadata": {},
   "outputs": [],
   "source": []
  }
 ],
 "metadata": {
  "kernelspec": {
   "display_name": "Python 3 (ipykernel)",
   "language": "python",
   "name": "python3"
  },
  "language_info": {
   "codemirror_mode": {
    "name": "ipython",
    "version": 3
   },
   "file_extension": ".py",
   "mimetype": "text/x-python",
   "name": "python",
   "nbconvert_exporter": "python",
   "pygments_lexer": "ipython3",
   "version": "3.9.7"
  }
 },
 "nbformat": 4,
 "nbformat_minor": 5
}
