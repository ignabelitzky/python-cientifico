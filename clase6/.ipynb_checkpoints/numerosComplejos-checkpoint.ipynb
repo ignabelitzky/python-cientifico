{
 "cells": [
  {
   "cell_type": "markdown",
   "id": "714c63db",
   "metadata": {},
   "source": [
    "# Numeros complejos"
   ]
  },
  {
   "cell_type": "markdown",
   "id": "a3039008",
   "metadata": {},
   "source": [
    "Python por defecto interpreta los numeros complejos cuando usamos la letra j para denotar la parte imaginaria. Podemos entonces crear numeros complejos escribiendo el numero directamente:"
   ]
  },
  {
   "cell_type": "code",
   "execution_count": 1,
   "id": "0c94513a",
   "metadata": {},
   "outputs": [],
   "source": [
    "z1 = 4 + 1j\n",
    "z2 = 2 - 2j\n",
    "z3 = -3j"
   ]
  },
  {
   "cell_type": "code",
   "execution_count": 2,
   "id": "50ea6461",
   "metadata": {},
   "outputs": [
    {
     "name": "stdout",
     "output_type": "stream",
     "text": [
      "Numero complejo z1:  (4+1j)\n",
      "Numero complejo z2:  (2-2j)\n",
      "Numero complejo z3:  (-0-3j)\n"
     ]
    }
   ],
   "source": [
    "print(\"Numero complejo z1: \", z1)\n",
    "print(\"Numero complejo z2: \", z2)\n",
    "print(\"Numero complejo z3: \", z3)"
   ]
  },
  {
   "cell_type": "code",
   "execution_count": 3,
   "id": "72166b0c",
   "metadata": {},
   "outputs": [
    {
     "name": "stdout",
     "output_type": "stream",
     "text": [
      "Parte imaginaria:  1.0\n",
      "Parte real:  2.0\n"
     ]
    }
   ],
   "source": [
    "print(\"Parte imaginaria: \", z1.imag)\n",
    "print(\"Parte real: \", z2.real)"
   ]
  },
  {
   "cell_type": "markdown",
   "id": "ec12650a",
   "metadata": {},
   "source": [
    "## Veamos las operaciones basicas con numeros complejos"
   ]
  },
  {
   "cell_type": "markdown",
   "id": "72d248e9",
   "metadata": {},
   "source": [
    "### Suma"
   ]
  },
  {
   "cell_type": "code",
   "execution_count": 4,
   "id": "8088b76f",
   "metadata": {},
   "outputs": [
    {
     "data": {
      "text/plain": [
       "(6-1j)"
      ]
     },
     "execution_count": 4,
     "metadata": {},
     "output_type": "execute_result"
    }
   ],
   "source": [
    "z1 + z2"
   ]
  },
  {
   "cell_type": "markdown",
   "id": "845022d5",
   "metadata": {},
   "source": [
    "### Resta"
   ]
  },
  {
   "cell_type": "code",
   "execution_count": 5,
   "id": "8c59c670",
   "metadata": {},
   "outputs": [
    {
     "data": {
      "text/plain": [
       "(-2-3j)"
      ]
     },
     "execution_count": 5,
     "metadata": {},
     "output_type": "execute_result"
    }
   ],
   "source": [
    "z2 - z1"
   ]
  },
  {
   "cell_type": "markdown",
   "id": "a140921f",
   "metadata": {},
   "source": [
    "### Conjugado"
   ]
  },
  {
   "cell_type": "code",
   "execution_count": 6,
   "id": "769c5558",
   "metadata": {},
   "outputs": [
    {
     "name": "stdout",
     "output_type": "stream",
     "text": [
      "Mi numero complejo:  (-1+3j)\n",
      "Mi numero conjugado:  (-1-3j)\n"
     ]
    }
   ],
   "source": [
    "z1 = -1 + 3j\n",
    "z1c = z1.conjugate()\n",
    "print(\"Mi numero complejo: \", z1)\n",
    "print(\"Mi numero conjugado: \", z1c)"
   ]
  },
  {
   "cell_type": "markdown",
   "id": "ec392793",
   "metadata": {},
   "source": [
    "### Multiplicacion"
   ]
  },
  {
   "cell_type": "code",
   "execution_count": 7,
   "id": "aa42214f",
   "metadata": {},
   "outputs": [
    {
     "data": {
      "text/plain": [
       "(4+8j)"
      ]
     },
     "execution_count": 7,
     "metadata": {},
     "output_type": "execute_result"
    }
   ],
   "source": [
    "z1 * z2"
   ]
  },
  {
   "cell_type": "markdown",
   "id": "7c51904f",
   "metadata": {},
   "source": [
    "### Division"
   ]
  },
  {
   "cell_type": "code",
   "execution_count": 8,
   "id": "63bf483d",
   "metadata": {},
   "outputs": [
    {
     "data": {
      "text/plain": [
       "(-1+0.5j)"
      ]
     },
     "execution_count": 8,
     "metadata": {},
     "output_type": "execute_result"
    }
   ],
   "source": [
    "z1 / z2"
   ]
  },
  {
   "cell_type": "markdown",
   "id": "111cabb2",
   "metadata": {},
   "source": [
    "### Potencia"
   ]
  },
  {
   "cell_type": "code",
   "execution_count": 9,
   "id": "0add0dab",
   "metadata": {},
   "outputs": [
    {
     "data": {
      "text/plain": [
       "27j"
      ]
     },
     "execution_count": 9,
     "metadata": {},
     "output_type": "execute_result"
    }
   ],
   "source": [
    "z3**3"
   ]
  },
  {
   "cell_type": "markdown",
   "id": "9da8dede",
   "metadata": {},
   "source": [
    "### Raiz"
   ]
  },
  {
   "cell_type": "code",
   "execution_count": 10,
   "id": "1f13e65a",
   "metadata": {},
   "outputs": [
    {
     "data": {
      "text/plain": [
       "(1.2247448713915892-1.224744871391589j)"
      ]
     },
     "execution_count": 10,
     "metadata": {},
     "output_type": "execute_result"
    }
   ],
   "source": [
    "z3**(1/2)"
   ]
  },
  {
   "cell_type": "markdown",
   "id": "20288017",
   "metadata": {},
   "source": [
    "## Libreria ```cmath```"
   ]
  },
  {
   "cell_type": "markdown",
   "id": "db97aef7",
   "metadata": {},
   "source": [
    "### Funciones matematicas para numeros complejos\n",
    "Este modulo proporciona acceso a funciones matematicas para numeros complejos. Las funciones de este modulo aceptan enteros, numeros de coma flotante o numeros complejos como argumentos.  \n",
    "Tambien aceptaran cualquier objeto de Python que tenga un metodo ```__complex__()``` o ```__float__()```: estos metodos se utilizan para convertir el objeto en un numero complejo o de punto flotante, respectivamente, y luego la funcion se aplica al resultado de la conversion. https://docs.python.org/3/library/cmath.html"
   ]
  },
  {
   "cell_type": "code",
   "execution_count": 11,
   "id": "6331fbca",
   "metadata": {},
   "outputs": [],
   "source": [
    "import cmath"
   ]
  },
  {
   "cell_type": "markdown",
   "id": "37a512e4",
   "metadata": {},
   "source": [
    "### Conversion binomica/polar"
   ]
  },
  {
   "cell_type": "code",
   "execution_count": 12,
   "id": "6d9d8ed7",
   "metadata": {},
   "outputs": [
    {
     "name": "stdout",
     "output_type": "stream",
     "text": [
      "(-1+3j) (-1-3j)\n",
      "Modulo:  3.1622776601683795\n",
      "Parte real e imaginaria:  -1.0 3.0\n",
      "Theta:  1.8925468811915387\n",
      "Magnitud:  3.1622776601683795 Angulo:  1.892546881191539\n"
     ]
    }
   ],
   "source": [
    "z1 = -1 + 3j\n",
    "z1c = z1.conjugate()\n",
    "print(z1, z1c)\n",
    "modulo = abs(cmath.sqrt(z1*z1c))\n",
    "print(\"Modulo: \", modulo)\n",
    "print(\"Parte real e imaginaria: \", z1.real, z1.imag)\n",
    "theta = cmath.atan(z1.imag/z1.real)+cmath.pi\n",
    "print(\"Theta: \", abs(theta))\n",
    "\n",
    "magnitud, angulo = cmath.polar(z1)\n",
    "print(\"Magnitud: \", magnitud, \"Angulo: \", angulo)"
   ]
  },
  {
   "cell_type": "code",
   "execution_count": 13,
   "id": "2ed56396",
   "metadata": {},
   "outputs": [
    {
     "name": "stdout",
     "output_type": "stream",
     "text": [
      "1.0 3.141592653589793\n",
      "(1.0, 3.141592653589793)\n",
      "3.141592653589793\n",
      "45.0\n"
     ]
    }
   ],
   "source": [
    "z4 = complex(-1.0, 0.0)\n",
    "z5 = -1 + 0j\n",
    "z6 = 1 + 1j\n",
    "z4ph = cmath.phase(z4)\n",
    "z5ph = cmath.phase(z5)\n",
    "z6ph = cmath.phase(z6)\n",
    "print(abs(z4), z4ph)\n",
    "print(cmath.polar(z4))\n",
    "print(z5ph)\n",
    "print(z6ph*180/cmath.pi)\n"
   ]
  },
  {
   "cell_type": "code",
   "execution_count": 14,
   "id": "0c2516e9",
   "metadata": {},
   "outputs": [
    {
     "name": "stdout",
     "output_type": "stream",
     "text": [
      "1.4142135623730951 0.7853981633974483\n",
      "(1.4142135623730951, 0.7853981633974483)\n"
     ]
    }
   ],
   "source": [
    "z6ph = cmath.phase(z6)\n",
    "print(abs(z6), z6ph)\n",
    "print(cmath.polar(z6))"
   ]
  },
  {
   "cell_type": "markdown",
   "id": "de46c853",
   "metadata": {},
   "source": [
    "## Polar a binomica"
   ]
  },
  {
   "cell_type": "code",
   "execution_count": 15,
   "id": "fb8ad43c",
   "metadata": {},
   "outputs": [
    {
     "name": "stdout",
     "output_type": "stream",
     "text": [
      "Magnitud:  1.4142135623730951\n",
      "Angulo:  45.0\n"
     ]
    }
   ],
   "source": [
    "magnitud, angulo = cmath.polar(z6)\n",
    "print(\"Magnitud: \", magnitud)\n",
    "print(\"Angulo: \", angulo*180/cmath.pi)"
   ]
  },
  {
   "cell_type": "code",
   "execution_count": 16,
   "id": "874b961b",
   "metadata": {},
   "outputs": [
    {
     "name": "stdout",
     "output_type": "stream",
     "text": [
      "z =  (1.0000000000000002+1j)\n"
     ]
    }
   ],
   "source": [
    "z = cmath.rect(magnitud, angulo)\n",
    "print(\"z = \", z)"
   ]
  },
  {
   "cell_type": "code",
   "execution_count": 17,
   "id": "206a4aff",
   "metadata": {},
   "outputs": [
    {
     "name": "stdout",
     "output_type": "stream",
     "text": [
      "z =  (1.2246467991473532e-16+2j)\n"
     ]
    }
   ],
   "source": [
    "magnitud = 2\n",
    "angulo = cmath.pi/2\n",
    "z = cmath.rect(magnitud, angulo)\n",
    "\n",
    "print(\"z = \", z)"
   ]
  },
  {
   "cell_type": "markdown",
   "id": "65a18885",
   "metadata": {},
   "source": [
    "## Grafica polar de numeros complejos"
   ]
  },
  {
   "cell_type": "code",
   "execution_count": 18,
   "id": "e60fe2ac",
   "metadata": {},
   "outputs": [],
   "source": [
    "import matplotlib.pyplot as plt"
   ]
  },
  {
   "cell_type": "code",
   "execution_count": 19,
   "id": "e6894586",
   "metadata": {},
   "outputs": [
    {
     "name": "stdout",
     "output_type": "stream",
     "text": [
      "z1:  (-1+3j)\n",
      "Magnitud:  3.1622776601683795\n",
      "Angulo:  108.43494882292202\n"
     ]
    },
    {
     "data": {
      "text/plain": [
       "[<matplotlib.lines.Line2D at 0x7fec4a2b1ee0>]"
      ]
     },
     "execution_count": 19,
     "metadata": {},
     "output_type": "execute_result"
    },
    {
     "data": {
      "image/png": "[encoded data removed]",
      "text/plain": [
       "<Figure size 432x288 with 1 Axes>"
      ]
     },
     "metadata": {
      "needs_background": "light"
     },
     "output_type": "display_data"
    }
   ],
   "source": [
    "print(\"z1: \", z1)\n",
    "\n",
    "magnitud, angulo = cmath.polar(z1)\n",
    "print(\"Magnitud: \", magnitud)\n",
    "print(\"Angulo: \", angulo*180/cmath.pi)\n",
    "plt.polar([0, angulo], [0, magnitud], color = 'b', marker = 'o')"
   ]
  },
  {
   "cell_type": "markdown",
   "id": "17d97a9d",
   "metadata": {},
   "source": [
    "## Grafica cartesiana de numeros complejos"
   ]
  },
  {
   "cell_type": "code",
   "execution_count": 20,
   "id": "eae72371",
   "metadata": {},
   "outputs": [
    {
     "data": {
      "image/png": "[encoded data removed]",
      "text/plain": [
       "<Figure size 432x288 with 1 Axes>"
      ]
     },
     "metadata": {
      "needs_background": "light"
     },
     "output_type": "display_data"
    }
   ],
   "source": [
    "def plotCartesiano(complejo, xymin=-5, xymax=5):\n",
    "    fix, ax = plt.subplots()\n",
    "    \n",
    "    #Dibuja el plano\n",
    "    ax.spines[\"left\"].set_position(\"zero\")\n",
    "    ax.spines[\"bottom\"].set_position(\"zero\")\n",
    "    ax.spines[\"left\"].set_color(\"green\")\n",
    "    ax.spines[\"bottom\"].set_color(\"red\")\n",
    "    \n",
    "    ax.set_xlim(xymin, xymax)\n",
    "    ax.set_ylim(xymin, xymax)\n",
    "    ax.grid()\n",
    "    \n",
    "    ax.scatter(complejo.real, complejo.imag)\n",
    "    plt.show()\n",
    "    \n",
    "plotCartesiano(z1)"
   ]
  }
 ],
 "metadata": {
  "kernelspec": {
   "display_name": "Python 3 (ipykernel)",
   "language": "python",
   "name": "python3"
  },
  "language_info": {
   "codemirror_mode": {
    "name": "ipython",
    "version": 3
   },
   "file_extension": ".py",
   "mimetype": "text/x-python",
   "name": "python",
   "nbconvert_exporter": "python",
   "pygments_lexer": "ipython3",
   "version": "3.9.7"
  }
 },
 "nbformat": 4,
 "nbformat_minor": 5
}
