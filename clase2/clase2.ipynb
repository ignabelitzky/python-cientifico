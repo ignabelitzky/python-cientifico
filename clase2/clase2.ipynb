{
 "cells": [
  {
   "cell_type": "markdown",
   "id": "18bb1038",
   "metadata": {},
   "source": [
    "# Ajustes lineales, no lineales y busqueda de minimos y maximos"
   ]
  },
  {
   "cell_type": "markdown",
   "id": "1c073ec9",
   "metadata": {},
   "source": [
    "## SciPy\n",
    "\n",
    "* <code>SciPy</code> es una biblioteca libre y de codigo abierto para Python. Se compone de herramientas y algoritmos matematicos. Se creo a partir de la coleccion original de Travis Oliphant, que se componia de modulos de extension para Python y fue lanzada en 1999 bajo el nombre de Multipack, llamada asi por los paquetes netlib que reunian a ODEPACK, QUADPACK, y MINPACK.\n",
    "* <code>SciPy</code> contiene modulos para optimizacion, algebra lineal, integracion, interpolacion, funciones especiales, FFT, procesamiento de senales y de imagen, resolucion de ODEs y otras tareas para la ciencia e ingenieria.\n",
    "* <code>SciPy</code> se basa en el objeto de matriz NumPy y es parte del conjunto NumPy, que incluye herramientas como Matplotlib, Pandas y SymPy, y un conjunto en expansion de bibliotecas de computacion cientifica. Este conjunto esta dirigido al mismo tipo de usuarios que los de aplicaciones como Matlab, GNU Octave, y Scilab. A veces tambien se hace referencia a este conjunto de herramientas y bibliotecas como SciPy."
   ]
  },
  {
   "cell_type": "markdown",
   "id": "7534dc60",
   "metadata": {},
   "source": [
    "https://www.scipy.org/index.html\n",
    "https://www.scipy.org/install.html\n",
    "pip install scipy\n",
    "sudo pip3 install sympy"
   ]
  },
  {
   "cell_type": "markdown",
   "id": "3cd17533",
   "metadata": {},
   "source": [
    "### Ajuste de funciones generales - SciPy\n",
    "\n",
    "Si queremos hacer un ajuste general, no necesariamente polinomico, debemos usar alguno de los metodos del paquete optimize, que contiene varios optimizadores locales y globales. El mas comun es leastsq que, al ser un optimizador, hay que definit previamente una funcion residuo que es la que realmente se va minimizar. Para ello necesitamos el paquete <code>SciPy</code>.\n",
    "\n",
    "http://webs.ucm.es/info/aocg/python/modulos_cientificos/scipy/index.html\n",
    "\n",
    "Su organizacion se estructura en subpaquetes, que se pueden considerar especializados en dominios cientificos determinados. Podemos encontrar estos paquetes, segun la ayuda de SciPy:\n",
    "\n",
    "* linalg - Algebra lineal\n",
    "* signal - Procesamiento de senales\n",
    "* stats - Funciones estadisticas\n",
    "* special - Funciones especiales\n",
    "* integrate - Integracion\n",
    "* interpolate - Herramienta de interpolacion\n",
    "* optimize - Herramienta de optimizacion\n",
    "* fftpack - Algoritmos de transformada de Fourier\n",
    "* io - Entrada y salidad de datos\n",
    "* lib.lapack - Wrappers a la libreria LAPACK\n",
    "* lib.blas - Wrappers a la libreria BLAS\n",
    "* lib - Wrappers a librerias externas\n",
    "* sparse - Matrices sparse\n",
    "* misc - otras utilidades\n",
    "* cluster - Vector Quantization / Kmeans\n",
    "* maxentropy - Ajuste a modelos con maxima entropia\n",
    "\n",
    "Los subpaquetes de Scipy se tienen que importar de forma separada. Por ejemplo:\n",
    "\n",
    "```Python\n",
    "    from scipy import linalg, optimize\n",
    "    # Tanto Scipy como Numpy tinene versiones de su documentacion en pdf y html en http://docs.scipy.org/. Tambien se puede obtener ayuda de las funciones y de los modulos mediante\n",
    "    sp.info(funcion)\n",
    "```\n",
    "\n",
    "como por ejemplo\n",
    "\n",
    "```Python\n",
    "    import scipy as sp        # Importamos el modulo scipy como el alias sp\n",
    "    sp.info(sp.optimize.fmin) # Consultamos la informacion de la funcion fmin.\n",
    "```\n",
    "\n",
    "Otra forma de buscar informacion es con el comando source, que lista el codigo de esa funcion,\n",
    "```Python\n",
    "    sp.source(sp.linspace)\n",
    "```"
   ]
  },
  {
   "cell_type": "markdown",
   "id": "8b3200ce",
   "metadata": {},
   "source": [
    "### Ajuste de una funcion usando <code>scipy.optimize curve_fit"
   ]
  },
  {
   "cell_type": "code",
   "execution_count": 1,
   "id": "2b10be5c",
   "metadata": {},
   "outputs": [],
   "source": [
    "\"\"\"\n",
    "Descripcion: Ejemplo de como usar la funcion curve_fit perteneciente a\n",
    "scipy.optimize para ajustar una funcion a una curva.\n",
    "\"\"\"\n",
    "import numpy as np\n",
    "import matplotlib.pyplot as plt         # Importamos matplotlib.pyplot como el alias plt\n",
    "from scipy.optimize import curve_fit    # Importamos curve_fit de scipy.optimize\n",
    "import scipy as sp                      # Importamos scipy como el alias sp"
   ]
  },
  {
   "cell_type": "markdown",
   "id": "be03624e",
   "metadata": {},
   "source": [
    "Vamos a recrear el ejemplo anterior, resuelto con <code>NumPy</code> y compraremos los resultados del ajuste."
   ]
  },
  {
   "cell_type": "code",
   "execution_count": 2,
   "id": "1c58570e",
   "metadata": {},
   "outputs": [],
   "source": [
    "n = 50                                            # Haremos 50 datos con ruido aleatorio\n",
    "jitter_amp = 4.0                                  # Esto es la amplitud del ruido\n",
    "x = np.linspace(0, 10, n)                         # Generamos la variable x\n",
    "jitter = jitter_amp * (np.random.random(n)-0.5)   # Calculamos el ruido para cada dato\n",
    "y = x + jitter"
   ]
  },
  {
   "cell_type": "markdown",
   "id": "0ac84976",
   "metadata": {},
   "source": [
    "Graficamos"
   ]
  },
  {
   "cell_type": "code",
   "execution_count": 3,
   "id": "91cc5882",
   "metadata": {},
   "outputs": [
    {
     "data": {
      "image/png": "[encoded data removed]",
      "text/plain": [
       "<Figure size 432x288 with 1 Axes>"
      ]
     },
     "metadata": {
      "needs_background": "light"
     },
     "output_type": "display_data"
    }
   ],
   "source": [
    "plt.plot(x, y, 'ok')\n",
    "plt.grid()"
   ]
  },
  {
   "cell_type": "markdown",
   "id": "1a71ad49",
   "metadata": {},
   "source": [
    "Ahora definamos una funcion de ajuste.\n",
    "\n",
    "Rehagamos el ajuste usando <code>NumPy</code> a los efectos de comparar los coeficientes obtenidos."
   ]
  },
  {
   "cell_type": "code",
   "execution_count": 4,
   "id": "774b5208",
   "metadata": {},
   "outputs": [
    {
     "data": {
      "text/plain": [
       "array([ 1.04045732, -0.17593777])"
      ]
     },
     "execution_count": 4,
     "metadata": {},
     "output_type": "execute_result"
    }
   ],
   "source": [
    "a = np.polyfit(x, y, 1)   # el numero 1 significa que usaremos un polinomio de 1er grado\n",
    "a"
   ]
  },
  {
   "cell_type": "code",
   "execution_count": 5,
   "id": "53804276",
   "metadata": {},
   "outputs": [],
   "source": [
    "def fit_func(t, m, b):\n",
    "    return m*t+b"
   ]
  },
  {
   "cell_type": "markdown",
   "id": "cab10967",
   "metadata": {},
   "source": [
    "Y utilizamos la funcion <code>optimize.curve_fit</code>"
   ]
  },
  {
   "cell_type": "code",
   "execution_count": 6,
   "id": "b2eda395",
   "metadata": {},
   "outputs": [
    {
     "data": {
      "text/plain": [
       "(array([ 1.04045732, -0.17593776]), array([ 1.04045732, -0.17593777]))"
      ]
     },
     "execution_count": 6,
     "metadata": {},
     "output_type": "execute_result"
    }
   ],
   "source": [
    "p, cov = curve_fit(fit_func, x, y)\n",
    "p, a # Observemos que a es el resultado obtenido con anterioridad"
   ]
  },
  {
   "cell_type": "markdown",
   "id": "fbbfc75f",
   "metadata": {},
   "source": [
    "Esta es la matriz de covarianza"
   ]
  },
  {
   "cell_type": "code",
   "execution_count": 7,
   "id": "3d7d5709",
   "metadata": {},
   "outputs": [
    {
     "data": {
      "text/plain": [
       "array([[ 0.0028412 , -0.014206  ],\n",
       "       [-0.014206  ,  0.09567307]])"
      ]
     },
     "execution_count": 7,
     "metadata": {},
     "output_type": "execute_result"
    }
   ],
   "source": [
    "cov"
   ]
  },
  {
   "cell_type": "markdown",
   "id": "7010e18e",
   "metadata": {},
   "source": [
    "Ahora grafiquemos los resultados"
   ]
  },
  {
   "cell_type": "code",
   "execution_count": 8,
   "id": "ba007638",
   "metadata": {},
   "outputs": [
    {
     "data": {
      "text/plain": [
       "<matplotlib.legend.Legend at 0x7f0632c64c70>"
      ]
     },
     "execution_count": 8,
     "metadata": {},
     "output_type": "execute_result"
    },
    {
     "data": {
      "image/png": "[encoded data removed]",
      "text/plain": [
       "<Figure size 432x288 with 1 Axes>"
      ]
     },
     "metadata": {
      "needs_background": "light"
     },
     "output_type": "display_data"
    }
   ],
   "source": [
    "t = np.linspace(0, 10, n)\n",
    "plt.plot(x, y, 'ok')\n",
    "plt.plot(t, p[0]*t+p[1], 'g') # Aqui utilizamos los resultados\n",
    "plt.grid()\n",
    "plt.xlabel('Eje X')\n",
    "plt.ylabel('Eje Y')\n",
    "plt.title('Ajuste lineal de datos con ruido')\n",
    "plt.legend(['Datos con ruido', 'Ajuste lineal'], loc = 0)"
   ]
  },
  {
   "cell_type": "markdown",
   "id": "19d50e4f",
   "metadata": {},
   "source": [
    "Para no usar datos experimentales reales, definimos una funcion que a partir de unos coeficientes inventados crea un array y al que anadimos un array de numeros aleatorios de la misma dimension que x mediante sp.random.normal que ponderamos con el factor k.\n",
    "\n",
    "Para este ejemplo imaginaremos un experimento, cuyos resultados en funcion del tiempo, vienen dados por la funcion,\n",
    "\n",
    "$$experimen = e^{\\left(\\frac{-bx^{2}}{2d^{2}}\\right)}+cx$$\n",
    "\n",
    "siendo a, b, c y d coeficientes desconocidos que el investigador sabe para mejorar sus publicaciones."
   ]
  },
  {
   "cell_type": "code",
   "execution_count": 9,
   "id": "de080cd8",
   "metadata": {},
   "outputs": [],
   "source": [
    "# definimos la funcion\n",
    "def mi_funcion(x, a, b, c, d):\n",
    "    return a * np.exp(-b*x**2/(2*d**2)) + c*x"
   ]
  },
  {
   "cell_type": "code",
   "execution_count": 10,
   "id": "23147794",
   "metadata": {},
   "outputs": [],
   "source": [
    "# Anadimos ruido a la funcion\n",
    "x = np.linspace(0, 5, 30)\n",
    "\n",
    "a, b, c, d = 2.5, 1.3, 0.5, 1\n",
    "y = mi_funcion(x, a, b, c, d)\n",
    "\n",
    "def ruido(x, y, k):\n",
    "    yn = y + k * np.random.normal(size = len(x))\n",
    "    return yn\n",
    "# Aqui `len(x)` nos dice cual es la longitud del vector con los datos, asi generamos otro\n",
    "# vector con el ruido que le sumamos a los datos medidos (simulados)"
   ]
  },
  {
   "cell_type": "markdown",
   "id": "a5de1583",
   "metadata": {},
   "source": [
    "Ajustamos nuestros datos experimentales recien creados a la funcion inicial mediante curve_fit. Los resultados los vamos a almacenar en coeficientes_optimizados y covarianza_estimada que es la covarianza de los coeficientes optimizados."
   ]
  },
  {
   "cell_type": "code",
   "execution_count": 11,
   "id": "c1b9d0d4",
   "metadata": {},
   "outputs": [],
   "source": [
    "# Ajustamos los datos experimentales a nuestra funcion y los almacenamos\n",
    "coeficientes_optimizados, covarianza_estimada = curve_fit(mi_funcion, x, y)"
   ]
  },
  {
   "cell_type": "markdown",
   "id": "12f39468",
   "metadata": {},
   "source": [
    "Por ultimo presentamos en pantalla."
   ]
  },
  {
   "cell_type": "code",
   "execution_count": 12,
   "id": "19f3ac0b",
   "metadata": {},
   "outputs": [
    {
     "name": "stdout",
     "output_type": "stream",
     "text": [
      "Coeficientes optimizados:  [  2.5        247.41839953   0.5         13.79571839]\n",
      "Covarianza estimada:  [[ 4.64400139e-33 -7.38475982e-24  1.12388366e-34 -2.05882173e-25]\n",
      " [-7.38475977e-24  1.79244753e-13 -2.04248019e-24  4.99722364e-15]\n",
      " [ 1.12388368e-34 -2.04248019e-24  8.91983057e-35 -5.69429805e-26]\n",
      " [-2.05882170e-25  4.99722364e-15 -5.69429820e-26  1.39319247e-16]]\n"
     ]
    }
   ],
   "source": [
    "# Mostramos los coeficientes calculados\n",
    "# y = mi_funcion(x, 2.5, 1.3, 0.5, 1)\n",
    "print('Coeficientes optimizados: ', coeficientes_optimizados)\n",
    "print('Covarianza estimada: ', covarianza_estimada)"
   ]
  },
  {
   "cell_type": "code",
   "execution_count": 13,
   "id": "e8a06635",
   "metadata": {},
   "outputs": [
    {
     "data": {
      "image/png": "[encoded data removed]",
      "text/plain": [
       "<Figure size 432x288 with 1 Axes>"
      ]
     },
     "metadata": {
      "needs_background": "light"
     },
     "output_type": "display_data"
    }
   ],
   "source": [
    "# Creamos la figura\n",
    "plt.figure()\n",
    "\n",
    "# Dibujamos los datos experimentales.\n",
    "plt.plot(x, y, 'ro', label = 'Experimental')\n",
    "\n",
    "# Dibujamos\n",
    "plt.plot(x, mi_funcion(x, coeficientes_optimizados[0], coeficientes_optimizados[1], coeficientes_optimizados[2], coeficientes_optimizados[3]), label = 'Ajuste')\n",
    "\n",
    "# Anadimos la leyenda\n",
    "plt.legend()\n",
    "\n",
    "plt.xlabel('Variable Indep (u.a.)')\n",
    "plt.ylabel('Experimento (u.a.)')\n",
    "plt.grid()\n",
    "plt.show()"
   ]
  },
  {
   "cell_type": "markdown",
   "id": "a40e3fd8",
   "metadata": {},
   "source": [
    "### Ajuste por cuadrados minimos usando scipy.optimize leastsq"
   ]
  },
  {
   "cell_type": "code",
   "execution_count": 14,
   "id": "b1aea39c",
   "metadata": {},
   "outputs": [],
   "source": [
    "from scipy.optimize import leastsq\n",
    "\n",
    "datos_y = np.array([2.9, 6.1, 10.9, 12.8, 19.2])\n",
    "datos_x = np.array([1.0, 2.0, 3.0, 4.0, 5.0])"
   ]
  },
  {
   "cell_type": "code",
   "execution_count": 15,
   "id": "d9a586d5",
   "metadata": {},
   "outputs": [],
   "source": [
    "# Funcion para calcular los residuos, donde se calcula (datos - modelo)\n",
    "def residuos(p, y, x):\n",
    "    error = y - (p[0]*x + p[1])\n",
    "    return error"
   ]
  },
  {
   "cell_type": "code",
   "execution_count": 16,
   "id": "9e1f86f9",
   "metadata": {},
   "outputs": [],
   "source": [
    "# Parametros iniciales estimados\n",
    "# y = p0[0]*x + p0[0]\n",
    "p0 = [2.0, 0.0]"
   ]
  },
  {
   "cell_type": "code",
   "execution_count": 17,
   "id": "42c042d2",
   "metadata": {},
   "outputs": [],
   "source": [
    "# Hacemos el ajuste por minimos cuadrados con leastsq(). El primer parametro\n",
    "# es la funcion de residuos, luego los parametro iniciales y una tupla con los\n",
    "# argumentos de la funcion de residuos, en este caso, datos_y y datos_x en\n",
    "# ese orden, porque asi se definio la funcion de error\n",
    "ajuste = leastsq(residuos, p0, args=(datos_y, datos_x))"
   ]
  },
  {
   "cell_type": "code",
   "execution_count": 18,
   "id": "9fd48bc5",
   "metadata": {},
   "outputs": [
    {
     "name": "stdout",
     "output_type": "stream",
     "text": [
      "[ 3.93 -1.41]\n",
      "3.9300000000042097\n"
     ]
    }
   ],
   "source": [
    "# El resultado es una lista, cuyo primer elemento es otra\n",
    "# lista con los parametros del ajuste\n",
    "print(ajuste[0])\n",
    "print(ajuste[0][0])"
   ]
  },
  {
   "cell_type": "code",
   "execution_count": 19,
   "id": "878fd6e0",
   "metadata": {},
   "outputs": [
    {
     "data": {
      "image/png": "[encoded data removed]",
      "text/plain": [
       "<Figure size 432x288 with 1 Axes>"
      ]
     },
     "metadata": {
      "needs_background": "light"
     },
     "output_type": "display_data"
    }
   ],
   "source": [
    "plt.plot(datos_x, datos_y, 'xg', label = 'Datos de laboratorio')\n",
    "yres = ajuste[0][0] * datos_x + ajuste[0][1]\n",
    "plt.plot(datos_x, yres, 'or', label = 'Datos ajustados')\n",
    "plt.grid()"
   ]
  },
  {
   "cell_type": "markdown",
   "id": "171fca7d",
   "metadata": {},
   "source": [
    "Veamos otro ejemplo para ajustar una funcion seno:"
   ]
  },
  {
   "cell_type": "code",
   "execution_count": 20,
   "id": "058ec083",
   "metadata": {},
   "outputs": [],
   "source": [
    "from scipy import random"
   ]
  },
  {
   "cell_type": "code",
   "execution_count": 21,
   "id": "5e398770",
   "metadata": {},
   "outputs": [],
   "source": [
    "# Generamos unos datos artificiales para hacer el ejemplo\n",
    "# A datos_y se le anade \"ruido\" que simula error de\n",
    "# medida, anadiendole un valor aleatorio\n",
    "datos_x = np.arange(0, 0.1, 0.003)\n",
    "A, k, theta = 10.0, 33.3, np.pi/5.0 # Definimos tres datos\n",
    "y_real = A * np.sin(2 * np.pi * k * datos_x + theta)  # Calculamos y\n",
    "datos_y = y_real + 2 * random.randn(len(datos_x))  # Les metemos ruido para que parezcan reales"
   ]
  },
  {
   "cell_type": "code",
   "execution_count": 22,
   "id": "5fd8dfc8",
   "metadata": {},
   "outputs": [],
   "source": [
    "# Ahora se trata de ajustar estos datos a una funcion\n",
    "# modelo tipo senoidal A * sin(2*pi*k*x + theta)\n",
    "\n",
    "# Defino la funcion de residuos\n",
    "def residuos(p, y, x):\n",
    "    A, k, theta = p\n",
    "    error = y - A * np.sin(2 * np.pi * k * x + theta)\n",
    "    return error"
   ]
  },
  {
   "cell_type": "code",
   "execution_count": 23,
   "id": "d1453871",
   "metadata": {},
   "outputs": [],
   "source": [
    "# Parametros iniciales\n",
    "# y = p[0]*np.sin(2*np.pi*p[1]*x + p[2])\n",
    "# Si estos se alejan mucho del valor real\n",
    "# la solucion no convergera\n",
    "p0 = [8.0, 40.0, np.pi/3]"
   ]
  },
  {
   "cell_type": "code",
   "execution_count": 24,
   "id": "925c1a36",
   "metadata": {},
   "outputs": [
    {
     "name": "stdout",
     "output_type": "stream",
     "text": [
      "[-9.72012481 32.94750158 -2.4481256 ]\n"
     ]
    }
   ],
   "source": [
    "# hacemos el ajuste por minimos cuadrados\n",
    "ajuste = leastsq(residuos, p0, args=(datos_y, datos_x))\n",
    "\n",
    "# El resultado es una lista, cuyo primer elemento es otra\n",
    "# lista con los parametros del ajuste.\n",
    "print(ajuste[0])"
   ]
  },
  {
   "cell_type": "code",
   "execution_count": 25,
   "id": "22a63c62",
   "metadata": {},
   "outputs": [],
   "source": [
    "# Defino la funcion modelo, para representarla graficamente\n",
    "def funcion(x, p):\n",
    "    return p[0] * np.sin(2 * np.pi * p[1] * x + p[2])"
   ]
  },
  {
   "cell_type": "code",
   "execution_count": 26,
   "id": "e0707cef",
   "metadata": {},
   "outputs": [],
   "source": [
    "# genero datos a partir del modelo para representarlo\n",
    "x1 = np.arange(0, datos_x.max(), 0.001)  # array con muchos puntos de x\n",
    "y1 = funcion(x1, ajuste[0])   # valor de la funcion modelo en los x"
   ]
  },
  {
   "cell_type": "code",
   "execution_count": 27,
   "id": "d07e9a15",
   "metadata": {},
   "outputs": [
    {
     "data": {
      "image/png": "[encoded data removed]",
      "text/plain": [
       "<Figure size 432x288 with 1 Axes>"
      ]
     },
     "metadata": {
      "needs_background": "light"
     },
     "output_type": "display_data"
    }
   ],
   "source": [
    "# Ahora muestro los datos y el ajuste graficamente\n",
    "plt.plot(datos_x, datos_y, 'o') # datos\n",
    "\n",
    "plt.plot(x1, y1, 'r-')\n",
    "plt.xlabel('Eje X')\n",
    "plt.ylabel('Eje Y')\n",
    "plt.title('Ajuste de funcion seno con leastsq')\n",
    "plt.legend(('Datos', 'Ajuste lineal'))\n",
    "plt.grid()\n",
    "plt.show()"
   ]
  },
  {
   "cell_type": "markdown",
   "id": "019482f8",
   "metadata": {},
   "source": [
    "Este ejemplo es bastante elaborado porque hemos usado un optimizador general para hacer un ajuste, pero podemos usar curve_fit() para ahorrarnos la funcion residuo.\n",
    "\n",
    "La anterior es una manera artesanal de hacer el ajuste, al construir la funcion de error. Para un ajuste de datos."
   ]
  },
  {
   "cell_type": "markdown",
   "id": "6d066e04",
   "metadata": {},
   "source": [
    "## Busqueda de minimos de una funcion\n",
    "\n",
    "En <code>scipy</code> las funciones universales (suma, resta, division, etc.) se han alterado para no producir errores de coma flotante cuando se encuentran errores; por ejemplo se devuelve NaN e Inf en los arrays en lugar de errores. Para ayudar a la deteccion de estos eventos, hay disponibles varias funciones como sp.isnan, sp.isinfinite, sp.isinf. Ademas se han modificado algunas funciones (log, sqrt, funciones trigonometricas inversas) para devolver valores complejos en lugar de NaN (por ejemplo sp.sqrt(-1) devuelve 1j).\n",
    "\n",
    "Dada la gran cantidad de modulos contenidos en Scipy, en esta seccion nos limitaremos en dar ejemplos de algunos de ellos recordando que el camino ideal para el aprendizaje es la lectura de los manuales oficiales.\n",
    "\n",
    "### fmin de scipy.optimize\n",
    "\n",
    "Minimiza una funcion usando el algoritmo downx simplex.\n",
    "\n",
    "Este algoritmo solo usa valores de funcion, no derivados o segundas derivadas.\n",
    "\n",
    "A continuacion cargaremos los modulos que vamos a necesitar,"
   ]
  },
  {
   "cell_type": "code",
   "execution_count": 28,
   "id": "e818d728",
   "metadata": {},
   "outputs": [],
   "source": [
    "from scipy.optimize import fmin # Importamos fmin de scipy.optimize"
   ]
  },
  {
   "cell_type": "markdown",
   "id": "29ae1df2",
   "metadata": {},
   "source": [
    "Definimos el sistema fisico de unidades y la funcion sinc(x) en python."
   ]
  },
  {
   "cell_type": "code",
   "execution_count": 29,
   "id": "ee079c87",
   "metadata": {},
   "outputs": [],
   "source": [
    "# Definimos el sistema fisico de unidades\n",
    "um = 1         # micras\n",
    "mm = 100 * um  # milimetros\n",
    "\n",
    "# Definimos los parametros fisicos\n",
    "anchura_rendija = 40\n",
    "longitud_onda = 0.630 * um\n",
    "\n",
    "# Definimos la funcion \"sinc\"\n",
    "def sinc(x):\n",
    "    # Definimos la funcion sinc normalizada.\n",
    "    funcion_sinc = (np.sin(np.pi * anchura_rendija * np.sin(x)/longitud_onda)/(np.pi * anchura_rendija * np.sin(x)/longitud_onda))**2\n",
    "    return funcion_sinc   # La devolvemos."
   ]
  },
  {
   "cell_type": "code",
   "execution_count": 30,
   "id": "2a9f4b4e",
   "metadata": {},
   "outputs": [
    {
     "data": {
      "image/png": "[encoded data removed]",
      "text/plain": [
       "<Figure size 432x288 with 1 Axes>"
      ]
     },
     "metadata": {
      "needs_background": "light"
     },
     "output_type": "display_data"
    }
   ],
   "source": [
    "# Podemos representar simplemente creando los arrays dimensionales y cargando matplotlib\n",
    "x = np.linspace(-0.1, 0.1, 300)\n",
    "y = sinc(x)\n",
    "\n",
    "# Creamos la figura\n",
    "plt.figure()\n",
    "\n",
    "# Representamos la grafica\n",
    "plt.plot(x, y)\n",
    "\n",
    "plt.show()"
   ]
  },
  {
   "cell_type": "markdown",
   "id": "574f00f3",
   "metadata": {},
   "source": [
    "la funcion fmin necesita de valores iniciales a modo de semilla para comenzar las iteraciones. En nuestro caso hemos elegido como valor 0.001,"
   ]
  },
  {
   "cell_type": "code",
   "execution_count": 31,
   "id": "c43d65f4",
   "metadata": {},
   "outputs": [],
   "source": [
    "# fmin necesita una semillla asi que se la proporcionamos.\n",
    "semilla = 0.0251"
   ]
  },
  {
   "cell_type": "markdown",
   "id": "2440870b",
   "metadata": {},
   "source": [
    "calculamos el valor del minimo mediante fmin,"
   ]
  },
  {
   "cell_type": "code",
   "execution_count": 32,
   "id": "1fb2383c",
   "metadata": {},
   "outputs": [
    {
     "name": "stdout",
     "output_type": "stream",
     "text": [
      "Optimization terminated successfully.\n",
      "         Current function value: 0.000001\n",
      "         Iterations: 8\n",
      "         Function evaluations: 16\n"
     ]
    }
   ],
   "source": [
    "x_minimo_intensidad = fmin(sinc, semilla)"
   ]
  },
  {
   "cell_type": "code",
   "execution_count": 33,
   "id": "b0ac71d1",
   "metadata": {},
   "outputs": [
    {
     "name": "stdout",
     "output_type": "stream",
     "text": [
      "[0.03153188]\n"
     ]
    }
   ],
   "source": [
    "print(x_minimo_intensidad)"
   ]
  },
  {
   "cell_type": "markdown",
   "id": "0af6aaf8",
   "metadata": {},
   "source": [
    "y por ultimo presentamos en pantalla el resultado mediante un print.\n",
    "Como podemos observar, tomamos directamente el valor calculado para el print. Esto lo conseguimos gracias al simbolo %.\n",
    "La utilizacion es sencilla, en el lugar donde queramos que aparezca el valor de nuestra variable escribimos el simbolo % seguido del numero de digitos que queramos que tenga la parte real y por ultimo el tipo de numero que queremos mostrar.\n",
    "En nuestro caso %1.2f signigica un digito real, dos decimales y el tipo float.\n",
    "Ademas fuera de las comillas del print debemos de poner otro % y entre parentesis la variable a la que llamamos (en nuestro caso x_minimo_intensidad y sinc (x_minimo_intensidad)."
   ]
  },
  {
   "cell_type": "code",
   "execution_count": 34,
   "id": "4d6f4392",
   "metadata": {},
   "outputs": [
    {
     "name": "stdout",
     "output_type": "stream",
     "text": [
      "El valor de x en el que se encuentra el minimo es 0.03 que corresponde a y = 0.00\n"
     ]
    }
   ],
   "source": [
    "# Presenta en pantalla el minimo y el valor de lal funcion en ese punto\n",
    "print('El valor de x en el que se encuentra el minimo es %1.2f que corresponde a y = %1.2f'\\\n",
    "     %(x_minimo_intensidad, sinc(x_minimo_intensidad)))"
   ]
  },
  {
   "cell_type": "markdown",
   "id": "2c78f8e5",
   "metadata": {},
   "source": [
    "El valor de x en el que se encuentra el minimo es 0.03 que se corresponde a y = 0.0"
   ]
  },
  {
   "cell_type": "code",
   "execution_count": 35,
   "id": "599ac772",
   "metadata": {},
   "outputs": [
    {
     "data": {
      "image/png": "[encoded data removed]",
      "text/plain": [
       "<Figure size 432x288 with 1 Axes>"
      ]
     },
     "metadata": {
      "needs_background": "light"
     },
     "output_type": "display_data"
    }
   ],
   "source": [
    "# Podemos representar simplemente creando los arrays dimensionales y cargando matplotlib\n",
    "# x = linspace -0.1, 0.1, 1300)\n",
    "# y = sinc(x)\n",
    "\n",
    "# Creamos la figura\n",
    "plt.figure()\n",
    "\n",
    "# Representamos la grafica\n",
    "plt.plot(x, y)\n",
    "\n",
    "# Representamos junto a la grafica anterior la semilla (en verde) y los minimos (en rojo) encontrados.\n",
    "plt.plot(x, y)\n",
    "\n",
    "# Representamos junto a la grafica simplemente creando los arrays dimensionales y cargando matplotlib\n",
    "# plt.plot(semilla, sinc, semilla, 'gd')\n",
    "# plt.plot(x_minimo_intensidad, sinc(x_minimo_intensidad), 'ro')\n",
    "# plt.plot(x_minimo_intensidad, sinc(x_minimo_intensidad), 'ro')\n",
    "\n",
    "plt.plot(semilla, sinc(semilla), 'gd',\n",
    "                x_minimo_intensidad, sinc(x_minimo_intensidad), 'ro',\n",
    "                -x_minimo_intensidad, sinc(x_minimo_intensidad), 'ro')\n",
    "    \n",
    "## Anadimos etiquetas\n",
    "plt.xlabel('angulo (A)')\n",
    "plt.ylabel('Intensidad')\n",
    "plt.title('Disfraccion por una rendija')\n",
    "plt.axis([-0.1, 0.1, 0, 1])\n",
    "plt.legend\n",
    "plt.show();\n"
   ]
  },
  {
   "cell_type": "markdown",
   "id": "6a28d42e",
   "metadata": {},
   "source": [
    "## Encontrar minimos en un intervalo definido\n",
    "\n",
    "### scipy.optimize.fminbound\n",
    "\n",
    "* scipy.optimize.fminbound(func, x1, x2, args = (), xtol=1e-5, maxfun = 500, full_output = 0, disp = 1)\n",
    "* Minimizacion limitada para funciones escalares.\n",
    "\n",
    "Otro camino para encontrar minimos es mediante el uso de fminbound como vemos en este ejemplo. Sea la funcion\n",
    "\n",
    "$$y = -cos\\left(\\frac{a\\pi x}{b}\\right)+cx^{d}$$\n",
    "\n",
    "dondo $a$, $b$, $c$, $d$ son coeficientes y $x$ es la variable. Para definirla en python vamos a crear una funcion cuyos argumentos sean estos parametros."
   ]
  },
  {
   "cell_type": "code",
   "execution_count": 36,
   "id": "40c7a971",
   "metadata": {},
   "outputs": [],
   "source": [
    "# Ejemplo _scipy_minimizacion.py para aprender como encontrar\n",
    "# minimos locales con python\n",
    "\n",
    "from scipy.optimize import fminbound  # Importamos fminbound desde scipy.optimize\n",
    "\n",
    "def mi_funcion(x, a, b, c, d):\n",
    "    y = -np.cos(a*np.pi*x/b) + c*x**d\n",
    "    return y"
   ]
  },
  {
   "cell_type": "code",
   "execution_count": 37,
   "id": "4fe3a2e2",
   "metadata": {},
   "outputs": [],
   "source": [
    "# Definimos los coeficientes a, b, c, d\n",
    "a, b, c, d = 2, 0.5, 0.05, 2\n",
    "\n",
    "# Definimos el intervalo de busqueda\n",
    "x1, x2 = -0.2, 0.2\n",
    "\n",
    "# Creamos el array dimensional\n",
    "x = np.arange(x1 - 1, x2 + 1, .01)\n",
    "\n",
    "# Evaluamos x en la funcion definida\n",
    "y = mi_funcion(x, a, b, c, d)\n",
    "\n",
    "# Calculamos el minimo local de la funcion entre x1 y x2\n",
    "x_minimo = fminbound(mi_funcion, x1, x2, args = (a, b, c, d))"
   ]
  },
  {
   "cell_type": "code",
   "execution_count": 38,
   "id": "38d5b475",
   "metadata": {},
   "outputs": [
    {
     "name": "stdout",
     "output_type": "stream",
     "text": [
      "El minimo esta en x = 0.000, y = -1.000\n"
     ]
    },
    {
     "data": {
      "image/png": "[encoded data removed]",
      "text/plain": [
       "<Figure size 432x288 with 1 Axes>"
      ]
     },
     "metadata": {
      "needs_background": "light"
     },
     "output_type": "display_data"
    }
   ],
   "source": [
    "# Presentamos en pantalla el resultado\n",
    "print('El minimo esta en x = %2.3f, y = %2.3f' %(x_minimo, mi_funcion(x_minimo, a, b, c, d)))\n",
    "\n",
    "# Creamos la figura\n",
    "plt.figure\n",
    "\n",
    "# Dibujamos en azul, \"b\", y con \"-\"\n",
    "plt.plot(x, y, 'b-')\n",
    "\n",
    "# Dibujamos el minimo encontrado en nuestro intervalo\n",
    "plt.plot(x_minimo, mi_funcion(x_minimo, a, b, c, d), 'ro', markersize = 8)\n",
    "\n",
    "# Anadimos etiquetas\n",
    "plt.title(u'Busqueda de minimos en un intervalo dado')\n",
    "plt.xlabel('X')\n",
    "plt.ylabel('Y')\n",
    "\n",
    "# Mostramos en pantalla\n",
    "plt.show()"
   ]
  },
  {
   "cell_type": "markdown",
   "id": "123d1ee1",
   "metadata": {},
   "source": [
    "## Busqueda de raices de ecuaciones no lineales con SciPy\n",
    "\n",
    "### El metodo de Brent\n",
    "\n",
    "El metodo de Brent es un algoritmo de busqueda de raiz que combina el metodo de biseccion, el metodo de la secante y la interpolacion cuadratica inversa. Este metodo es perteneciente a los metodos abiertos, gracias a Theodorus Dekker y Richard Brent."
   ]
  },
  {
   "cell_type": "markdown",
   "id": "d36ec1f5",
   "metadata": {},
   "source": [
    "Visto como resolver sistemas de ecuaciones lineales, tal vez sea incluso mas atractivo resolver ecuaciones no lineales. Para ello, importaremos el paguete <code>optimize</code> de SciPy:"
   ]
  },
  {
   "cell_type": "code",
   "execution_count": 39,
   "id": "b89e97bf",
   "metadata": {},
   "outputs": [],
   "source": [
    "from scipy import optimize"
   ]
  },
  {
   "cell_type": "markdown",
   "id": "1bed0d9e",
   "metadata": {},
   "source": [
    "La ayuda de este paquete es bastante larga (puedes consultarla tambien en http://docs.scipy.org/doc/scipy/reference/tutorial/optimize.html).\n",
    "El paquete optimize incluye multitud de metodos para optimizacion, ajuste de curvas y busqueda de raices. Vamos a centrarnos ahora en la busqueda de raices de funciones escalares.\n",
    "Para mas informacion puedes leer http://pybonaxxi.org/2012/10/25/como-resolver-ecuaciones-algebraicas-en-python-con-scipy/"
   ]
  },
  {
   "cell_type": "markdown",
   "id": "920465a5",
   "metadata": {},
   "source": [
    "<div class=\"alert alert-info\"> <bd> Nota </bd> : La función `root` se utiliza para hallar soluciones de *sistemas* de ecuaciones no lineales así que obviamente también funciona para ecuaciones escalares. No obstante, vamos a utilizar las funciones `brentq` y `newton` para que el método utilizado quede más claro. </div>"
   ]
  },
  {
   "cell_type": "markdown",
   "id": "c0ad92bc",
   "metadata": {},
   "source": [
    "Hay basicamente dos tipos de algoritmos para hallar raices de ecuaciones no lineales:\n",
    "* Aquellos que operan en un intervalo [a, b] tal que f(a)*f(b) < 0. Mas lentos, convergencia asegurada.\n",
    "* Aquellos que operan dando una condicion inicial aproximadamente cerca de la solucion. Mas rapidos, convergencia condicionada.\n",
    "\n",
    "De los primeros vamos a usar la funcion brentq (aunque podriamos usar bisect) y de los segundos vamos a usar newton (que en realidad engloba los metodos de Newton y de la secante)."
   ]
  },
  {
   "cell_type": "markdown",
   "id": "9de6ba4c",
   "metadata": {},
   "source": [
    "#### Ejemplo:\n",
    "\n",
    "$\\ln{x} = \\sin{x} \\Rightarrow F(x) \\equiv \\ln{x} - \\sin{x} = 0$"
   ]
  },
  {
   "cell_type": "markdown",
   "id": "be845dd2",
   "metadata": {},
   "source": [
    "Lo primero que tengo que haces es definir la ecuacion, que matematicamente sera una funcion $F(x)$ que quiero igualar a cero."
   ]
  },
  {
   "cell_type": "code",
   "execution_count": 40,
   "id": "a2c03c5d",
   "metadata": {},
   "outputs": [],
   "source": [
    "def F(x):\n",
    "    return np.log(x) - np.sin(x)\n",
    "\n",
    "def S(x):\n",
    "    return np.sin(x)\n",
    "\n",
    "def L(x):\n",
    "    return np.log(x)"
   ]
  },
  {
   "cell_type": "markdown",
   "id": "6f94404c",
   "metadata": {},
   "source": [
    "Para hacernos una idea de las posibles soluciones siempre podemos representar graficaemnte esa funcion:"
   ]
  },
  {
   "cell_type": "code",
   "execution_count": 41,
   "id": "5c1feee5",
   "metadata": {},
   "outputs": [
    {
     "data": {
      "text/plain": [
       "<matplotlib.legend.Legend at 0x7f0630a83d60>"
      ]
     },
     "execution_count": 41,
     "metadata": {},
     "output_type": "execute_result"
    },
    {
     "data": {
      "image/png": "[encoded data removed]",
      "text/plain": [
       "<Figure size 432x288 with 1 Axes>"
      ]
     },
     "metadata": {
      "needs_background": "light"
     },
     "output_type": "display_data"
    }
   ],
   "source": [
    "x = np.linspace(0.1, 10, num=100)\n",
    "\n",
    "plt.plot(x, F(x), 'k', lw=2, label=\"$F(x)$\")\n",
    "\n",
    "plt.plot(x, L(x), label = \"$\\log{x}$\")\n",
    "\n",
    "plt.plot(x, S(x), label = \"$/sin{x}$\")\n",
    "\n",
    "plt.plot(x, np.zeros_like(x), 'k--')\n",
    "\n",
    "plt.legend(loc=4)"
   ]
  },
  {
   "cell_type": "markdown",
   "id": "28925923",
   "metadata": {},
   "source": [
    "Y utilizando por ejemplo el metodo de Brent en el intervalo [0, 3]:"
   ]
  },
  {
   "cell_type": "code",
   "execution_count": 42,
   "id": "73502ad8",
   "metadata": {},
   "outputs": [
    {
     "name": "stdout",
     "output_type": "stream",
     "text": [
      "2.219107148913746\n"
     ]
    }
   ],
   "source": [
    "res = optimize.brentq(F, 0.0001, 3)\n",
    "print(res)"
   ]
  },
  {
   "cell_type": "code",
   "execution_count": 43,
   "id": "cb01b787",
   "metadata": {},
   "outputs": [
    {
     "name": "stdout",
     "output_type": "stream",
     "text": [
      "2.219107148913746\n"
     ]
    }
   ],
   "source": [
    "res = optimize.brentq(F, 0.2, 3)\n",
    "print(res)"
   ]
  }
 ],
 "metadata": {
  "kernelspec": {
   "display_name": "Python 3 (ipykernel)",
   "language": "python",
   "name": "python3"
  },
  "language_info": {
   "codemirror_mode": {
    "name": "ipython",
    "version": 3
   },
   "file_extension": ".py",
   "mimetype": "text/x-python",
   "name": "python",
   "nbconvert_exporter": "python",
   "pygments_lexer": "ipython3",
   "version": "3.9.7"
  }
 },
 "nbformat": 4,
 "nbformat_minor": 5
}
